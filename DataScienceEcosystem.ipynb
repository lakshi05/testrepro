{
 "cells": [
  {
   "cell_type": "markdown",
   "id": "ef284cd5",
   "metadata": {},
   "source": [
    "#  Data Science Tools and Ecosystem"
   ]
  },
  {
   "cell_type": "markdown",
   "id": "8e8119a2",
   "metadata": {},
   "source": [
    "## In this notebook, Data Science Tools and Ecosystem are summarized."
   ]
  },
  {
   "cell_type": "markdown",
   "id": "d9aaa393",
   "metadata": {},
   "source": [
    "###  Some of the popular languages that Data Scientists use are:\n",
    "     1. Python\n",
    "     2. SQL\n",
    "     3. Java\n",
    "     4. Julia\n",
    "     5. JavaScript"
   ]
  },
  {
   "cell_type": "markdown",
   "id": "b9ce0a3e",
   "metadata": {},
   "source": [
    "###  Some of the commonly used libraries used by Data Scientists include:\n",
    "     1. Pandas\n",
    "     2. Matplotlib\n",
    "     3. Plotly\n",
    "     4. Seaborn\n",
    "     5. ggplot"
   ]
  },
  {
   "cell_type": "markdown",
   "id": "f806c115",
   "metadata": {},
   "source": [
    "### Execute as a Markdown Cell\n",
    "\n",
    "| Data science Tools | \n",
    "| ------------------ | \n",
    "| Python | \n",
    "| Scikit | \n",
    "| Java | "
   ]
  },
  {
   "cell_type": "markdown",
   "id": "96413018",
   "metadata": {},
   "source": [
    "###  Below are a few examples of evaluating arithmetic expressions in Python"
   ]
  },
  {
   "cell_type": "code",
   "execution_count": 3,
   "id": "bd0adb1f",
   "metadata": {},
   "outputs": [
    {
     "data": {
      "text/plain": [
       "17"
      ]
     },
     "execution_count": 3,
     "metadata": {},
     "output_type": "execute_result"
    }
   ],
   "source": [
    "(3*4)+5"
   ]
  },
  {
   "cell_type": "markdown",
   "id": "265dcac6",
   "metadata": {},
   "source": [
    "###  This will convert 200 minutes to hours by diving by 60"
   ]
  },
  {
   "cell_type": "code",
   "execution_count": 4,
   "id": "ca60111d",
   "metadata": {},
   "outputs": [
    {
     "data": {
      "text/plain": [
       "3.3333333333333335"
      ]
     },
     "execution_count": 4,
     "metadata": {},
     "output_type": "execute_result"
    }
   ],
   "source": [
    "200 / 60"
   ]
  },
  {
   "cell_type": "markdown",
   "id": "4faaebcd",
   "metadata": {},
   "source": [
    "###  List popular languages for Data Science\n",
    "\n",
    "####  Objectives :\n",
    "        • Create markdown cell with title of the notebook\n",
    "        • Create an ordered list of data science languages\n",
    "        • Create a markdown cell introducing arithmetic expression examples\n",
    "        • Create a code cell to convert minutes to hours\n"
   ]
  },
  {
   "cell_type": "markdown",
   "id": "f2251c4a",
   "metadata": {},
   "source": [
    "##  Author\n",
    "\n",
    "Lakshiyien Namasivayam"
   ]
  },
  {
   "cell_type": "code",
   "execution_count": null,
   "id": "4a76dfb1",
   "metadata": {},
   "outputs": [],
   "source": []
  }
 ],
 "metadata": {
  "kernelspec": {
   "display_name": "Python 3 (ipykernel)",
   "language": "python",
   "name": "python3"
  },
  "language_info": {
   "codemirror_mode": {
    "name": "ipython",
    "version": 3
   },
   "file_extension": ".py",
   "mimetype": "text/x-python",
   "name": "python",
   "nbconvert_exporter": "python",
   "pygments_lexer": "ipython3",
   "version": "3.10.9"
  }
 },
 "nbformat": 4,
 "nbformat_minor": 5
}
