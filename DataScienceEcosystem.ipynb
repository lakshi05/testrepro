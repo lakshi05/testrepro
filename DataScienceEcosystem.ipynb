{
 "cells": [
  {
   "cell_type": "markdown",
   "id": "ef284cd5",
   "metadata": {},
   "source": [
    "#  Data Science Tools and Ecosystem"
   ]
  },
  {
   "cell_type": "markdown",
   "id": "8e8119a2",
   "metadata": {},
   "source": [
    "# In this notebook, Data Science Tools and Ecosystem are summarized."
   ]
  },
  {
   "cell_type": "markdown",
   "id": "d9aaa393",
   "metadata": {},
   "source": [
    "##  Some of the popular languages that Data Scientists use are:"
   ]
  },
  {
   "cell_type": "markdown",
   "id": "b9ce0a3e",
   "metadata": {},
   "source": [
    "###  Some of the commonly used libraries used by Data Scientists include:\n",
    "     1. Pandas\n",
    "     2. Matplotlib\n",
    "     3. Plotly\n",
    "     4. Seaborn\n",
    "     5. ggplot"
   ]
  },
  {
   "cell_type": "markdown",
   "id": "3e49cfb2",
   "metadata": {},
   "source": [
    "### Execute as a Markdown Cell\n",
    "\n",
    "| Data science Tools | \n",
    "| ------------------ | \n",
    "| Python | \n",
    "| Scikit | \n",
    "| Java | "
   ]
  },
  {
   "cell_type": "markdown",
   "id": "4a1c1a92",
   "metadata": {},
   "source": [
    "###  Below are a few examples of evaluating arithmetic expressions in Python"
   ]
  },
  {
   "cell_type": "code",
   "execution_count": 2,
   "id": "b69a00d9",
   "metadata": {},
   "outputs": [
    {
     "data": {
      "text/plain": [
       "41"
      ]
     },
     "execution_count": 2,
     "metadata": {},
     "output_type": "execute_result"
    }
   ],
   "source": [
    "(7*5)+6"
   ]
  },
  {
   "cell_type": "markdown",
   "id": "adc89356",
   "metadata": {},
   "source": [
    "### This a simple arithmetic expression to mutiply then add integers"
   ]
  },
  {
   "cell_type": "code",
   "execution_count": 3,
   "id": "ca3eac45",
   "metadata": {},
   "outputs": [
    {
     "data": {
      "text/plain": [
       "17"
      ]
     },
     "execution_count": 3,
     "metadata": {},
     "output_type": "execute_result"
    }
   ],
   "source": [
    "(3*4)+5"
   ]
  },
  {
   "cell_type": "markdown",
   "id": "20e997af",
   "metadata": {},
   "source": [
    "###  This will convert 200 minutes to hours by diving by 60"
   ]
  },
  {
   "cell_type": "code",
   "execution_count": 4,
   "id": "a7a36271",
   "metadata": {},
   "outputs": [
    {
     "data": {
      "text/plain": [
       "3.3333333333333335"
      ]
     },
     "execution_count": 4,
     "metadata": {},
     "output_type": "execute_result"
    }
   ],
   "source": [
    "200 / 60"
   ]
  },
  {
   "cell_type": "markdown",
   "id": "0f0b3431",
   "metadata": {},
   "source": [
    "###  List popular languages for Data Science\n",
    "####  Objectives :\n",
    "      Python\n",
    "      Java\n",
    "      C++\n",
    "      SQL\n",
    "      Julia\n"
   ]
  },
  {
   "cell_type": "markdown",
   "id": "0df0ec54",
   "metadata": {},
   "source": [
    "##  Author. Lakshiyien Namasivayam"
   ]
  },
  {
   "cell_type": "code",
   "execution_count": null,
   "id": "2fd854b3",
   "metadata": {},
   "outputs": [],
   "source": []
  }
 ],
 "metadata": {
  "kernelspec": {
   "display_name": "Python 3 (ipykernel)",
   "language": "python",
   "name": "python3"
  },
  "language_info": {
   "codemirror_mode": {
    "name": "ipython",
    "version": 3
   },
   "file_extension": ".py",
   "mimetype": "text/x-python",
   "name": "python",
   "nbconvert_exporter": "python",
   "pygments_lexer": "ipython3",
   "version": "3.10.9"
  }
 },
 "nbformat": 4,
 "nbformat_minor": 5
}
